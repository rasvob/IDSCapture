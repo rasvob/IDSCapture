{
 "cells": [
  {
   "cell_type": "code",
   "execution_count": null,
   "id": "3993c7ee",
   "metadata": {},
   "outputs": [],
   "source": [
    "import numpy as np\n",
    "import pandas as pd\n",
    "from matplotlib import pyplot as plt\n",
    "import cv2\n",
    "from tqdm.notebook import trange, tqdm"
   ]
  },
  {
   "cell_type": "code",
   "execution_count": 2,
   "id": "6d7e9f41",
   "metadata": {},
   "outputs": [],
   "source": [
    "import plotly.express as px\n",
    "import plotly.graph_objects as go\n",
    "from plotly.subplots import make_subplots"
   ]
  },
  {
   "cell_type": "code",
   "execution_count": 3,
   "id": "c6f6d256",
   "metadata": {},
   "outputs": [],
   "source": [
    "input_files = r'C:\\Users\\svo0175\\Documents\\Work\\Svetlomet\\Hella_06_05_2021\\Hrabova_test_long_nove_svetlo\\Hrabova_test_long_nove_svetlo_cut_{0}.{1}'\n",
    "input_files = r'C:\\Users\\Petr\\Documents\\svetlomety\\data\\Hrabova_test_long_nove_svetlo\\Hrabova_test_long_nove_svetlo_cut_{0}.{1}'\n",
    "\n",
    "thresholds_arr = [10, 50, 100, 115]"
   ]
  },
  {
   "cell_type": "code",
   "execution_count": 4,
   "id": "2e5f0845",
   "metadata": {},
   "outputs": [
    {
     "ename": "KeyboardInterrupt",
     "evalue": "",
     "output_type": "error",
     "traceback": [
      "\u001b[1;31m---------------------------------------------------------------------------\u001b[0m",
      "\u001b[1;31mKeyboardInterrupt\u001b[0m                         Traceback (most recent call last)",
      "\u001b[1;32m<ipython-input-4-c3c9e79643b7>\u001b[0m in \u001b[0;36m<module>\u001b[1;34m\u001b[0m\n\u001b[0;32m      1\u001b[0m \u001b[0mdfs\u001b[0m \u001b[1;33m=\u001b[0m \u001b[1;33m{\u001b[0m\u001b[1;33m}\u001b[0m\u001b[1;33m\u001b[0m\u001b[1;33m\u001b[0m\u001b[0m\n\u001b[0;32m      2\u001b[0m \u001b[1;32mfor\u001b[0m \u001b[0mk\u001b[0m \u001b[1;32min\u001b[0m \u001b[0mthresholds_arr\u001b[0m\u001b[1;33m:\u001b[0m\u001b[1;33m\u001b[0m\u001b[1;33m\u001b[0m\u001b[0m\n\u001b[1;32m----> 3\u001b[1;33m     \u001b[0mdfs\u001b[0m\u001b[1;33m[\u001b[0m\u001b[0mk\u001b[0m\u001b[1;33m]\u001b[0m \u001b[1;33m=\u001b[0m \u001b[0mpd\u001b[0m\u001b[1;33m.\u001b[0m\u001b[0mread_parquet\u001b[0m\u001b[1;33m(\u001b[0m\u001b[0minput_files\u001b[0m\u001b[1;33m.\u001b[0m\u001b[0mformat\u001b[0m\u001b[1;33m(\u001b[0m\u001b[0mk\u001b[0m\u001b[1;33m,\u001b[0m \u001b[1;34m'parquet.gzip'\u001b[0m\u001b[1;33m)\u001b[0m\u001b[1;33m,\u001b[0m \u001b[0mengine\u001b[0m\u001b[1;33m=\u001b[0m\u001b[1;34m'pyarrow'\u001b[0m\u001b[1;33m)\u001b[0m\u001b[1;33m\u001b[0m\u001b[1;33m\u001b[0m\u001b[0m\n\u001b[0m",
      "\u001b[1;32mc:\\users\\petr\\documents\\svetlomety\\.venv\\lib\\site-packages\\pandas\\io\\parquet.py\u001b[0m in \u001b[0;36mread_parquet\u001b[1;34m(path, engine, columns, use_nullable_dtypes, **kwargs)\u001b[0m\n\u001b[0;32m    458\u001b[0m     \u001b[0mimpl\u001b[0m \u001b[1;33m=\u001b[0m \u001b[0mget_engine\u001b[0m\u001b[1;33m(\u001b[0m\u001b[0mengine\u001b[0m\u001b[1;33m)\u001b[0m\u001b[1;33m\u001b[0m\u001b[1;33m\u001b[0m\u001b[0m\n\u001b[0;32m    459\u001b[0m     return impl.read(\n\u001b[1;32m--> 460\u001b[1;33m         \u001b[0mpath\u001b[0m\u001b[1;33m,\u001b[0m \u001b[0mcolumns\u001b[0m\u001b[1;33m=\u001b[0m\u001b[0mcolumns\u001b[0m\u001b[1;33m,\u001b[0m \u001b[0muse_nullable_dtypes\u001b[0m\u001b[1;33m=\u001b[0m\u001b[0muse_nullable_dtypes\u001b[0m\u001b[1;33m,\u001b[0m \u001b[1;33m**\u001b[0m\u001b[0mkwargs\u001b[0m\u001b[1;33m\u001b[0m\u001b[1;33m\u001b[0m\u001b[0m\n\u001b[0m\u001b[0;32m    461\u001b[0m     )\n",
      "\u001b[1;32mc:\\users\\petr\\documents\\svetlomety\\.venv\\lib\\site-packages\\pandas\\io\\parquet.py\u001b[0m in \u001b[0;36mread\u001b[1;34m(self, path, columns, use_nullable_dtypes, storage_options, **kwargs)\u001b[0m\n\u001b[0;32m    216\u001b[0m             \u001b[0mkwargs\u001b[0m\u001b[1;33m.\u001b[0m\u001b[0mpop\u001b[0m\u001b[1;33m(\u001b[0m\u001b[1;34m\"filesystem\"\u001b[0m\u001b[1;33m,\u001b[0m \u001b[1;32mNone\u001b[0m\u001b[1;33m)\u001b[0m\u001b[1;33m,\u001b[0m\u001b[1;33m\u001b[0m\u001b[1;33m\u001b[0m\u001b[0m\n\u001b[0;32m    217\u001b[0m             \u001b[0mstorage_options\u001b[0m\u001b[1;33m=\u001b[0m\u001b[0mstorage_options\u001b[0m\u001b[1;33m,\u001b[0m\u001b[1;33m\u001b[0m\u001b[1;33m\u001b[0m\u001b[0m\n\u001b[1;32m--> 218\u001b[1;33m             \u001b[0mmode\u001b[0m\u001b[1;33m=\u001b[0m\u001b[1;34m\"rb\"\u001b[0m\u001b[1;33m,\u001b[0m\u001b[1;33m\u001b[0m\u001b[1;33m\u001b[0m\u001b[0m\n\u001b[0m\u001b[0;32m    219\u001b[0m         )\n\u001b[0;32m    220\u001b[0m         \u001b[1;32mtry\u001b[0m\u001b[1;33m:\u001b[0m\u001b[1;33m\u001b[0m\u001b[1;33m\u001b[0m\u001b[0m\n",
      "\u001b[1;32mc:\\users\\petr\\documents\\svetlomety\\.venv\\lib\\site-packages\\pandas\\io\\parquet.py\u001b[0m in \u001b[0;36m_get_path_or_handle\u001b[1;34m(path, fs, storage_options, mode, is_dir)\u001b[0m\n\u001b[0;32m     80\u001b[0m         \u001b[1;31m# fsspec resources can also point to directories\u001b[0m\u001b[1;33m\u001b[0m\u001b[1;33m\u001b[0m\u001b[1;33m\u001b[0m\u001b[0m\n\u001b[0;32m     81\u001b[0m         \u001b[1;31m# this branch is used for example when reading from non-fsspec URLs\u001b[0m\u001b[1;33m\u001b[0m\u001b[1;33m\u001b[0m\u001b[1;33m\u001b[0m\u001b[0m\n\u001b[1;32m---> 82\u001b[1;33m         \u001b[0mhandles\u001b[0m \u001b[1;33m=\u001b[0m \u001b[0mget_handle\u001b[0m\u001b[1;33m(\u001b[0m\u001b[0mpath_or_handle\u001b[0m\u001b[1;33m,\u001b[0m \u001b[0mmode\u001b[0m\u001b[1;33m,\u001b[0m \u001b[0mis_text\u001b[0m\u001b[1;33m=\u001b[0m\u001b[1;32mFalse\u001b[0m\u001b[1;33m)\u001b[0m\u001b[1;33m\u001b[0m\u001b[1;33m\u001b[0m\u001b[0m\n\u001b[0m\u001b[0;32m     83\u001b[0m         \u001b[0mfs\u001b[0m \u001b[1;33m=\u001b[0m \u001b[1;32mNone\u001b[0m\u001b[1;33m\u001b[0m\u001b[1;33m\u001b[0m\u001b[0m\n\u001b[0;32m     84\u001b[0m         \u001b[0mpath_or_handle\u001b[0m \u001b[1;33m=\u001b[0m \u001b[0mhandles\u001b[0m\u001b[1;33m.\u001b[0m\u001b[0mhandle\u001b[0m\u001b[1;33m\u001b[0m\u001b[1;33m\u001b[0m\u001b[0m\n",
      "\u001b[1;32mc:\\users\\petr\\documents\\svetlomety\\.venv\\lib\\site-packages\\pandas\\io\\common.py\u001b[0m in \u001b[0;36mget_handle\u001b[1;34m(path_or_buf, mode, encoding, compression, memory_map, is_text, errors, storage_options)\u001b[0m\n\u001b[0;32m    649\u001b[0m         \u001b[1;32melse\u001b[0m\u001b[1;33m:\u001b[0m\u001b[1;33m\u001b[0m\u001b[1;33m\u001b[0m\u001b[0m\n\u001b[0;32m    650\u001b[0m             \u001b[1;31m# Binary mode\u001b[0m\u001b[1;33m\u001b[0m\u001b[1;33m\u001b[0m\u001b[1;33m\u001b[0m\u001b[0m\n\u001b[1;32m--> 651\u001b[1;33m             \u001b[0mhandle\u001b[0m \u001b[1;33m=\u001b[0m \u001b[0mopen\u001b[0m\u001b[1;33m(\u001b[0m\u001b[0mhandle\u001b[0m\u001b[1;33m,\u001b[0m \u001b[0mioargs\u001b[0m\u001b[1;33m.\u001b[0m\u001b[0mmode\u001b[0m\u001b[1;33m)\u001b[0m\u001b[1;33m\u001b[0m\u001b[1;33m\u001b[0m\u001b[0m\n\u001b[0m\u001b[0;32m    652\u001b[0m         \u001b[0mhandles\u001b[0m\u001b[1;33m.\u001b[0m\u001b[0mappend\u001b[0m\u001b[1;33m(\u001b[0m\u001b[0mhandle\u001b[0m\u001b[1;33m)\u001b[0m\u001b[1;33m\u001b[0m\u001b[1;33m\u001b[0m\u001b[0m\n\u001b[0;32m    653\u001b[0m \u001b[1;33m\u001b[0m\u001b[0m\n",
      "\u001b[1;31mKeyboardInterrupt\u001b[0m: "
     ]
    }
   ],
   "source": [
    "dfs = {}\n",
    "for k in thresholds_arr:\n",
    "    dfs[k] = pd.read_parquet(input_files.format(k, 'parquet.gzip'), engine='pyarrow')"
   ]
  },
  {
   "cell_type": "code",
   "execution_count": null,
   "id": "2b296a43",
   "metadata": {},
   "outputs": [],
   "source": [
    "df = dfs[50]"
   ]
  },
  {
   "cell_type": "code",
   "execution_count": null,
   "id": "ede24b4a",
   "metadata": {},
   "outputs": [],
   "source": [
    "df.shape"
   ]
  },
  {
   "cell_type": "code",
   "execution_count": null,
   "id": "49309520",
   "metadata": {},
   "outputs": [],
   "source": [
    "df.describe()"
   ]
  },
  {
   "cell_type": "code",
   "execution_count": null,
   "id": "a2f2a9a7",
   "metadata": {},
   "outputs": [],
   "source": [
    "##### Jelikož je ve všech sloupcích podobná popisná statistika je pro agregaci hranice detekované přechodové hrany zvolen průměr mezi všemi sloupci obrazu."
   ]
  },
  {
   "cell_type": "code",
   "execution_count": null,
   "id": "9975b3bd",
   "metadata": {},
   "outputs": [],
   "source": [
    "df_avg = pd.DataFrame()\n",
    "df_avg['FrameTimestamp_us'] = df.FrameTimestamp_us\n",
    "df_avg['avg_edge_occurence'] = df.iloc[:, :-1].mean(axis=1)\n",
    "print(df_avg.shape)\n",
    "df_avg.head()"
   ]
  },
  {
   "cell_type": "code",
   "execution_count": null,
   "id": "ceb10d50",
   "metadata": {},
   "outputs": [],
   "source": [
    "df_avg.describe()"
   ]
  },
  {
   "cell_type": "code",
   "execution_count": null,
   "id": "c2ab60b7",
   "metadata": {},
   "outputs": [],
   "source": [
    "#### Zobrazení signálu"
   ]
  },
  {
   "cell_type": "code",
   "execution_count": null,
   "id": "ad671ff8",
   "metadata": {},
   "outputs": [],
   "source": [
    "df_tmp = df_avg.iloc[:50000]\n",
    "px.line(x=df_tmp.FrameTimestamp_us, y=df_tmp.avg_edge_occurence)"
   ]
  },
  {
   "cell_type": "code",
   "execution_count": null,
   "id": "b7b242a8",
   "metadata": {},
   "outputs": [],
   "source": [
    "df_tmp = df_avg.iloc[50000:150000]\n",
    "px.line(x=df_tmp.FrameTimestamp_us, y=df_tmp.avg_edge_occurence)"
   ]
  },
  {
   "cell_type": "code",
   "execution_count": null,
   "id": "b5c5d53a",
   "metadata": {},
   "outputs": [],
   "source": [
    "df_tmp = df_avg\n",
    "px.line(x=df_tmp.FrameTimestamp_us, y=df_tmp.avg_edge_occurence)"
   ]
  },
  {
   "cell_type": "code",
   "execution_count": null,
   "id": "1086e5e7",
   "metadata": {},
   "outputs": [],
   "source": [
    "#### Kontrola velkých změn mezi snímky - podezrele mista v kvalite video zaznamu"
   ]
  },
  {
   "cell_type": "code",
   "execution_count": null,
   "id": "238980a1",
   "metadata": {},
   "outputs": [],
   "source": [
    "(df_avg - df_avg.shift())[['FrameTimestamp_us', 'avg_edge_occurence']].describe(percentiles=[.01, .1, .25, .5, .75, .9, .99])"
   ]
  },
  {
   "cell_type": "code",
   "execution_count": null,
   "id": "96b3d348",
   "metadata": {},
   "outputs": [],
   "source": [
    "df_avg['edge_shift'] = df_avg.avg_edge_occurence - df_avg.shift().avg_edge_occurence\n",
    "px.line(x=df_avg.FrameTimestamp_us, y=df_avg.edge_shift)"
   ]
  },
  {
   "cell_type": "code",
   "execution_count": null,
   "id": "c0594ec5",
   "metadata": {},
   "outputs": [],
   "source": [
    "Z předchozího grafu lze vidět, že přechody mezi snímky odpovídají velikosti rozkmitu. Obsahují pouze jednotlivé výkyvy (vzniklé například přeskočením snímku) a nelze nalézt region, který by obsahoval větší počet podezřelých přechodů."
   ]
  },
  {
   "cell_type": "code",
   "execution_count": null,
   "id": "36335ad9",
   "metadata": {},
   "outputs": [],
   "source": [
    "#### Detekce periody\n",
    "\n",
    "Pro výpočet byl použit postup počítání přechodů \"0\" signálu v našem případě použit průměr jako hranice přechodu rozkmitu.\n",
    "\n",
    "U výpočtu průměrné hladiny rozkmitu bylo zvoleno okno 800 záznamů z videa. Tato hodnota byla vypočtena z předpokladu alespoň 10 cyklů pro určení aktuální frekvence a nejnižší předpokládáne frekvenci 5 Hz.\n",
    "\n",
    "Jelikož se ukázalo, že u detekce přechodu přes průměr dochází k nepřesnostem, byl použit průměr 10 záznamů pro vyhlazení originálního signálu. "
   ]
  },
  {
   "cell_type": "code",
   "execution_count": null,
   "id": "665f941b",
   "metadata": {},
   "outputs": [],
   "source": [
    "df_avg['smoothed_avg_edge_occurence'] = df_avg.rolling(10, center=True).avg_edge_occurence.mean()\n",
    "df_avg['rolling_avg_edge_occurence'] = df_avg.rolling(800, center=True).avg_edge_occurence.mean()"
   ]
  },
  {
   "cell_type": "code",
   "execution_count": null,
   "id": "a0e9cc55",
   "metadata": {},
   "outputs": [],
   "source": [
    "df_tmp = df_avg.iloc[10000:150000]\n",
    "df_tmp = pd.melt(df_tmp, id_vars=['FrameTimestamp_us'], value_vars=['avg_edge_occurence', 'smoothed_avg_edge_occurence', 'rolling_avg_edge_occurence'])\n",
    "px.line(df_tmp, x='FrameTimestamp_us', y='value', color='variable')"
   ]
  },
  {
   "cell_type": "code",
   "execution_count": null,
   "id": "f20f26b2",
   "metadata": {},
   "outputs": [],
   "source": [
    "df_avg.loc[df_avg.avg_edge_occurence>=df_avg.rolling_avg_edge_occurence, 'polarity'] = 1\n",
    "df_avg.loc[df_avg.avg_edge_occurence<df_avg.rolling_avg_edge_occurence, 'polarity'] = -1\n",
    "df_avg['polarity_shift_abs'] = abs(df_avg.polarity-df_avg.polarity.shift())\n",
    "df_avg['polarity_shift'] = df_avg.polarity-df_avg.polarity.shift()\n",
    "df_avg.loc[df_avg.smoothed_avg_edge_occurence>=df_avg.rolling_avg_edge_occurence, 'polarity_smoothed'] = 1\n",
    "df_avg.loc[df_avg.smoothed_avg_edge_occurence<df_avg.rolling_avg_edge_occurence, 'polarity_smoothed'] = -1\n",
    "df_avg['polarity_smoothed_shift_abs'] = abs(df_avg.polarity_smoothed-df_avg.polarity_smoothed.shift())\n",
    "df_avg['polarity_smoothed_shift'] = df_avg.polarity_smoothed-df_avg.polarity_smoothed.shift()"
   ]
  },
  {
   "cell_type": "code",
   "execution_count": null,
   "id": "5f40ee74",
   "metadata": {},
   "outputs": [],
   "source": [
    "df_tmp = df_avg.iloc[10000:150000]\n",
    "df_tmp = pd.melt(df_tmp, id_vars=['FrameTimestamp_us'], value_vars=['avg_edge_occurence', 'rolling_avg_edge_occurence', 'polarity', 'polarity_shift', 'polarity_smoothed', 'polarity_smoothed_shift'])\n",
    "px.line(df_tmp, x='FrameTimestamp_us', y='value', color='variable')"
   ]
  },
  {
   "cell_type": "code",
   "execution_count": null,
   "id": "ad5f3ded",
   "metadata": {},
   "outputs": [],
   "source": [
    "df_tmp = df_avg[(df_avg.FrameTimestamp_us >= 244925000) & (df_avg.FrameTimestamp_us <= 245200000)]\n",
    "df_tmp = pd.melt(df_tmp, id_vars=['FrameTimestamp_us'], value_vars=['avg_edge_occurence', 'rolling_avg_edge_occurence', 'polarity', 'polarity_shift', 'polarity_smoothed', 'polarity_smoothed_shift'])\n",
    "px.line(df_tmp, x='FrameTimestamp_us', y='value', color='variable')"
   ]
  },
  {
   "cell_type": "code",
   "execution_count": null,
   "id": "ee9d32b8",
   "metadata": {},
   "outputs": [],
   "source": [
    "#### Výpočet periody"
   ]
  },
  {
   "cell_type": "code",
   "execution_count": null,
   "id": "df1f3ea3",
   "metadata": {},
   "outputs": [],
   "source": [
    "df_avg['frames_timediff_us'] = df_avg.FrameTimestamp_us - df_avg.FrameTimestamp_us.shift()\n",
    "df_avg['periody_start_mark'] = 0\n",
    "df_avg.loc[df_avg.polarity_smoothed_shift == 2, 'periody_start_mark'] = 1\n",
    "df_avg['rolling_sum_frames_timediff_us'] = df_avg.rolling(800, center=True).frames_timediff_us.sum()\n",
    "df_avg['rolling_sum_periody_start_mark'] = df_avg.rolling(800, center=True).periody_start_mark.sum()\n",
    "df_avg['frequency'] = 1 / (df_avg.rolling_sum_frames_timediff_us / df_avg.rolling_sum_periody_start_mark / 10**6)"
   ]
  },
  {
   "cell_type": "code",
   "execution_count": null,
   "id": "b64caf6e",
   "metadata": {},
   "outputs": [],
   "source": [
    "df_avg.iloc[1100:1150,:]"
   ]
  },
  {
   "cell_type": "code",
   "execution_count": null,
   "id": "82b79e38",
   "metadata": {},
   "outputs": [],
   "source": [
    "df_avg.frequency.describe()"
   ]
  },
  {
   "cell_type": "code",
   "execution_count": null,
   "id": "ec1a59cd",
   "metadata": {},
   "outputs": [],
   "source": [
    "df_tmp = df_avg.iloc[10000:150000]\n",
    "px.line(df_tmp, x='FrameTimestamp_us', y='frequency')"
   ]
  },
  {
   "cell_type": "code",
   "execution_count": null,
   "id": "9c11870a",
   "metadata": {},
   "outputs": [],
   "source": [
    "px.line(df_avg, x='FrameTimestamp_us', y='frequency')"
   ]
  },
  {
   "cell_type": "code",
   "execution_count": null,
   "id": "b0da399f",
   "metadata": {},
   "outputs": [],
   "source": []
  },
  {
   "cell_type": "code",
   "execution_count": null,
   "id": "adaee1db",
   "metadata": {},
   "outputs": [],
   "source": [
    "##### Několik omezení, se kterým zatím pracujeme:\n",
    "\n",
    "Při výpočtu průměru se počítá s centrováním plovoucího okna, což nepočítá s real time zpracováním.\n",
    "\n"
   ]
  }
 ],
 "metadata": {
  "kernelspec": {
   "display_name": "venv-hella",
   "language": "python",
   "name": "venv-hella"
  },
  "language_info": {
   "codemirror_mode": {
    "name": "ipython",
    "version": 3
   },
   "file_extension": ".py",
   "mimetype": "text/x-python",
   "name": "python",
   "nbconvert_exporter": "python",
   "pygments_lexer": "ipython3",
   "version": "3.7.4"
  }
 },
 "nbformat": 4,
 "nbformat_minor": 5
}

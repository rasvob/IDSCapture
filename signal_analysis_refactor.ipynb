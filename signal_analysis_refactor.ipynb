{
 "cells": [
  {
   "cell_type": "code",
   "execution_count": null,
   "id": "affa903c",
   "metadata": {},
   "outputs": [],
   "source": [
    "import numpy as np\n",
    "import pandas as pd\n",
    "from matplotlib import pyplot as plt\n",
    "import cv2\n",
    "from tqdm.notebook import trange, tqdm"
   ]
  },
  {
   "cell_type": "code",
   "execution_count": null,
   "id": "e78f85d9",
   "metadata": {},
   "outputs": [],
   "source": [
    "import plotly.express as px\n",
    "import plotly.graph_objects as go\n",
    "from plotly.subplots import make_subplots"
   ]
  },
  {
   "cell_type": "code",
   "execution_count": null,
   "id": "4964b937",
   "metadata": {},
   "outputs": [],
   "source": [
    "input_files = r'C:\\Users\\svo0175\\Documents\\Work\\Svetlomet\\Hella_06_05_2021\\Hrabova_test_long_nove_svetlo\\Hrabova_test_long_nove_svetlo_cut_{0}.{1}'\n",
    "input_files = r'C:\\Users\\Petr\\Documents\\svetlomety\\data\\Hrabova_test_long_nove_svetlo\\Hrabova_test_long_nove_svetlo_cut_{0}.{1}'\n",
    "\n",
    "thresholds_arr = [10, 50, 70]\n",
    "thresholds_arr = [50]"
   ]
  },
  {
   "cell_type": "code",
   "execution_count": null,
   "id": "0109edf9",
   "metadata": {},
   "outputs": [],
   "source": [
    "dfs = {}\n",
    "for k in thresholds_arr:\n",
    "    dfs[k] = pd.read_parquet(input_files.format(k, 'parquet.gzip'), engine='pyarrow')"
   ]
  },
  {
   "cell_type": "code",
   "execution_count": null,
   "id": "521d68c7",
   "metadata": {},
   "outputs": [],
   "source": [
    "df = dfs[50]"
   ]
  },
  {
   "cell_type": "code",
   "execution_count": null,
   "id": "0f250683",
   "metadata": {},
   "outputs": [],
   "source": [
    "df.shape"
   ]
  },
  {
   "cell_type": "code",
   "execution_count": null,
   "id": "32ae164d",
   "metadata": {},
   "outputs": [],
   "source": [
    "df.describe()"
   ]
  },
  {
   "cell_type": "markdown",
   "id": "f4cb797d",
   "metadata": {},
   "source": [
    "##### Jelikož je ve všech sloupcích podobná popisná statistika je pro agregaci hranice detekované přechodové hrany zvolen průměr mezi všemi sloupci obrazu."
   ]
  },
  {
   "cell_type": "code",
   "execution_count": null,
   "id": "0b2571c5",
   "metadata": {},
   "outputs": [],
   "source": [
    "df_avg = pd.DataFrame()\n",
    "df_avg['FrameTimestamp_us'] = df.FrameTimestamp_us\n",
    "df_avg['avg_edge_occurence'] = df.iloc[:, :-1].mean(axis=1)\n",
    "print(df_avg.shape)\n",
    "df_avg.head()"
   ]
  },
  {
   "cell_type": "code",
   "execution_count": null,
   "id": "a7f04876",
   "metadata": {},
   "outputs": [],
   "source": [
    "df_avg.describe()"
   ]
  },
  {
   "cell_type": "markdown",
   "id": "46b4fa96",
   "metadata": {},
   "source": [
    "#### Zobrazení signálu"
   ]
  },
  {
   "cell_type": "code",
   "execution_count": null,
   "id": "32fb3ef1",
   "metadata": {},
   "outputs": [],
   "source": [
    "df_tmp = df_avg.iloc[:50000]\n",
    "px.line(x=df_tmp.FrameTimestamp_us, y=df_tmp.avg_edge_occurence)"
   ]
  },
  {
   "cell_type": "code",
   "execution_count": null,
   "id": "4b21182e",
   "metadata": {},
   "outputs": [],
   "source": [
    "df_tmp = df_avg.iloc[50000:150000]\n",
    "px.line(x=df_tmp.FrameTimestamp_us, y=df_tmp.avg_edge_occurence)"
   ]
  },
  {
   "cell_type": "code",
   "execution_count": null,
   "id": "75a0d329",
   "metadata": {},
   "outputs": [],
   "source": [
    "df_tmp = df_avg\n",
    "px.line(x=df_tmp.FrameTimestamp_us, y=df_tmp.avg_edge_occurence)"
   ]
  },
  {
   "cell_type": "markdown",
   "id": "a713d3d0",
   "metadata": {},
   "source": [
    "#### Kontrola velkých změn mezi snímky - podezrele mista v kvalite video zaznamu"
   ]
  },
  {
   "cell_type": "code",
   "execution_count": null,
   "id": "5acfe88b",
   "metadata": {},
   "outputs": [],
   "source": [
    "(df_avg - df_avg.shift())[['FrameTimestamp_us', 'avg_edge_occurence']].describe(percentiles=[.01, .1, .25, .5, .75, .9, .99])"
   ]
  },
  {
   "cell_type": "code",
   "execution_count": null,
   "id": "1416a789",
   "metadata": {},
   "outputs": [],
   "source": [
    "df_avg['edge_shift'] = df_avg.avg_edge_occurence - df_avg.shift().avg_edge_occurence\n",
    "px.line(x=df_avg.FrameTimestamp_us, y=df_avg.edge_shift)"
   ]
  },
  {
   "cell_type": "markdown",
   "id": "f9f77750",
   "metadata": {},
   "source": [
    "Z předchozího grafu lze vidět, že přechody mezi snímky odpovídají velikosti rozkmitu. Obsahují pouze jednotlivé výkyvy (vzniklé například přeskočením snímku) a nelze nalézt region, který by obsahoval větší počet podezřelých přechodů."
   ]
  },
  {
   "cell_type": "markdown",
   "id": "f5e28c45",
   "metadata": {},
   "source": [
    "#### Detekce periody\n",
    "\n",
    "Pro výpočet byl použit postup počítání přechodů \"0\" signálu v našem případě použit průměr jako hranice přechodu rozkmitu.\n",
    "\n",
    "U výpočtu průměrné hladiny rozkmitu bylo zvoleno okno 800 záznamů z videa. Tato hodnota byla vypočtena z předpokladu alespoň 10 cyklů pro určení aktuální frekvence a nejnižší předpokládáne frekvenci 5 Hz.\n",
    "\n",
    "Jelikož se ukázalo, že u detekce přechodu přes průměr dochází k nepřesnostem, byl použit průměr 5 záznamů pro vyhlazení originálního signálu. ( V původní verzi bylo použito okno 10, ale docházelo k zploštění až k průměru při specifických frekvencích nebo k přetočení fáze. )"
   ]
  },
  {
   "cell_type": "code",
   "execution_count": null,
   "id": "2734cb70",
   "metadata": {},
   "outputs": [],
   "source": [
    "df_avg['smoothed_avg_edge_occurence'] = df_avg.rolling(5, center=True).avg_edge_occurence.mean()\n",
    "df_avg['rolling_avg_edge_occurence'] = df_avg.rolling(800, center=True).avg_edge_occurence.mean()"
   ]
  },
  {
   "cell_type": "code",
   "execution_count": null,
   "id": "aed28b78",
   "metadata": {},
   "outputs": [],
   "source": [
    "df_tmp = df_avg.iloc[10000:150000]\n",
    "df_tmp = df_avg.iloc[:130000]\n",
    "df_tmp = pd.melt(df_tmp, id_vars=['FrameTimestamp_us'], value_vars=['avg_edge_occurence', 'smoothed_avg_edge_occurence', 'rolling_avg_edge_occurence'])\n",
    "px.line(df_tmp, x='FrameTimestamp_us', y='value', color='variable')"
   ]
  },
  {
   "cell_type": "code",
   "execution_count": null,
   "id": "f05a50c3",
   "metadata": {},
   "outputs": [],
   "source": [
    "df_avg.loc[df_avg.avg_edge_occurence>=df_avg.rolling_avg_edge_occurence, 'polarity'] = 1\n",
    "df_avg.loc[df_avg.avg_edge_occurence<df_avg.rolling_avg_edge_occurence, 'polarity'] = -1\n",
    "df_avg['polarity_shift_abs'] = abs(df_avg.polarity-df_avg.polarity.shift())\n",
    "df_avg['polarity_shift'] = df_avg.polarity-df_avg.polarity.shift()\n",
    "df_avg.loc[df_avg.smoothed_avg_edge_occurence>=df_avg.rolling_avg_edge_occurence, 'polarity_smoothed'] = 1\n",
    "df_avg.loc[df_avg.smoothed_avg_edge_occurence<df_avg.rolling_avg_edge_occurence, 'polarity_smoothed'] = -1\n",
    "df_avg['polarity_smoothed_shift_abs'] = abs(df_avg.polarity_smoothed-df_avg.polarity_smoothed.shift())\n",
    "df_avg['polarity_smoothed_shift'] = df_avg.polarity_smoothed-df_avg.polarity_smoothed.shift()"
   ]
  },
  {
   "cell_type": "code",
   "execution_count": null,
   "id": "1ad712e4",
   "metadata": {},
   "outputs": [],
   "source": [
    "df_tmp = df_avg.iloc[10000:150000]\n",
    "df_tmp = pd.melt(df_tmp, id_vars=['FrameTimestamp_us'], value_vars=['avg_edge_occurence', 'rolling_avg_edge_occurence', 'polarity', 'polarity_shift', 'polarity_smoothed', 'polarity_smoothed_shift'])\n",
    "px.line(df_tmp, x='FrameTimestamp_us', y='value', color='variable')"
   ]
  },
  {
   "cell_type": "code",
   "execution_count": null,
   "id": "3e37acbd",
   "metadata": {},
   "outputs": [],
   "source": [
    "df_tmp = df_avg[(df_avg.FrameTimestamp_us >= 244925000) & (df_avg.FrameTimestamp_us <= 245200000)]\n",
    "df_tmp = pd.melt(df_tmp, id_vars=['FrameTimestamp_us'], value_vars=['avg_edge_occurence', 'rolling_avg_edge_occurence', 'polarity', 'polarity_shift', 'polarity_smoothed', 'polarity_smoothed_shift'])\n",
    "px.line(df_tmp, x='FrameTimestamp_us', y='value', color='variable')"
   ]
  },
  {
   "cell_type": "markdown",
   "id": "68ea0173",
   "metadata": {},
   "source": [
    "#### Výpočet periody"
   ]
  },
  {
   "cell_type": "code",
   "execution_count": null,
   "id": "f608ce0b",
   "metadata": {},
   "outputs": [],
   "source": [
    "df_avg['frames_timediff_us'] = df_avg.FrameTimestamp_us - df_avg.FrameTimestamp_us.shift()\n",
    "df_avg['periody_start_mark'] = 0\n",
    "df_avg.loc[df_avg.polarity_smoothed_shift == 2, 'periody_start_mark'] = 1\n",
    "df_avg['rolling_sum_frames_timediff_us'] = df_avg.rolling(800, center=True).frames_timediff_us.sum()\n",
    "df_avg['rolling_sum_periody_start_mark'] = df_avg.rolling(800, center=True).periody_start_mark.sum()\n",
    "df_avg['frequency'] = 1 / (df_avg.rolling_sum_frames_timediff_us / df_avg.rolling_sum_periody_start_mark / 10**6)"
   ]
  },
  {
   "cell_type": "code",
   "execution_count": null,
   "id": "1b565c2b",
   "metadata": {},
   "outputs": [],
   "source": [
    "df_avg.iloc[1100:1150,:]"
   ]
  },
  {
   "cell_type": "code",
   "execution_count": null,
   "id": "45d34e50",
   "metadata": {},
   "outputs": [],
   "source": [
    "df_avg.frequency.describe()"
   ]
  },
  {
   "cell_type": "code",
   "execution_count": null,
   "id": "0bd1d8cd",
   "metadata": {},
   "outputs": [],
   "source": [
    "df_tmp = df_avg.iloc[10000:150000].reset_index()\n",
    "px.line(df_tmp, x='index', y='frequency')"
   ]
  },
  {
   "cell_type": "code",
   "execution_count": null,
   "id": "5d7a4366",
   "metadata": {},
   "outputs": [],
   "source": [
    "px.line(df_avg, x='FrameTimestamp_us', y='frequency')"
   ]
  },
  {
   "cell_type": "markdown",
   "id": "cf684985",
   "metadata": {},
   "source": [
    "##### Několik omezení, se kterým zatím pracujeme:\n",
    "\n",
    "Při výpočtu průměru se počítá s centrováním plovoucího okna, což nepočítá s real time zpracováním.\n",
    "\n"
   ]
  },
  {
   "cell_type": "markdown",
   "id": "19c36a30",
   "metadata": {},
   "source": [
    "#### Vyhlazení pozorované frekvence v sekvenci skrze median"
   ]
  },
  {
   "cell_type": "code",
   "execution_count": null,
   "id": "8f709cf6",
   "metadata": {},
   "outputs": [],
   "source": [
    "df_avg.head()"
   ]
  },
  {
   "cell_type": "code",
   "execution_count": null,
   "id": "e7ac0cd7",
   "metadata": {},
   "outputs": [],
   "source": [
    "df_avg_filter = df_avg.dropna().copy()"
   ]
  },
  {
   "cell_type": "code",
   "execution_count": null,
   "id": "74f0938c",
   "metadata": {},
   "outputs": [],
   "source": [
    "df_avg_filter['frequency_rolling_mean'] = df_avg_filter.frequency.rolling(10000, center=True).quantile(0.5)"
   ]
  },
  {
   "cell_type": "code",
   "execution_count": null,
   "id": "78917d6b",
   "metadata": {},
   "outputs": [],
   "source": [
    "df_avg_filter['FrameTimestamp_s'] = df_avg_filter.FrameTimestamp_us / 10**6"
   ]
  },
  {
   "cell_type": "code",
   "execution_count": null,
   "id": "a6498827",
   "metadata": {},
   "outputs": [],
   "source": [
    "px.line(df_avg_filter, x='FrameTimestamp_s', y='frequency_rolling_mean')"
   ]
  },
  {
   "cell_type": "code",
   "execution_count": null,
   "id": "3b71cd14",
   "metadata": {},
   "outputs": [],
   "source": [
    "df_tmp = df_avg_filter.iloc[:130000]\n",
    "px.line(df_tmp, x='FrameTimestamp_s', y='frequency_rolling_mean')"
   ]
  },
  {
   "cell_type": "code",
   "execution_count": null,
   "id": "3b064935",
   "metadata": {},
   "outputs": [],
   "source": [
    "df_avg_filter.frequency_rolling_mean.describe()"
   ]
  },
  {
   "cell_type": "markdown",
   "id": "36f1d670",
   "metadata": {},
   "source": [
    "#### Souhrnná statistika z vibro testu světlometu\n",
    "\n",
    "Provést popisnou statistiku výkyvů pro:\n",
    "- výkyv pixelů\n",
    "- výkyv mm\n",
    " \n",
    "- sekundově (line chart)\n",
    "- minutově (boxplot)\n",
    "\n",
    "- dle Hz (boxplot)\n",
    "\n",
    "**TODO:**\n",
    "\n",
    "- ?? Zvážit zarovnání na začátek vibro testu (např frekvence = 4Hz). Abychom pak měli lepší výsledky časových agregací.\n",
    "\n",
    "- ?? Od čeho počítat +- posun? 800 rolling avg se výrazně v čase mění, navíc při cca 40Hz je patrná velká změna v klouzavém průměru. Pokud by se hodnoty porovnávaly vůči globálnímu průměru, tak dochází k nesymetrickým rozdílům + a - výkyvů. Nebo začít s ručně identifikovanou hodnotou z počátku záznamu před spuštění vibro testu.\n"
   ]
  },
  {
   "cell_type": "code",
   "execution_count": null,
   "id": "dcfc9f45",
   "metadata": {},
   "outputs": [],
   "source": [
    "df_tmp = df_avg_filter.iloc[:130000]\n",
    "df_tmp = pd.melt(df_tmp, id_vars=['FrameTimestamp_s'], value_vars=['avg_edge_occurence', 'rolling_avg_edge_occurence', 'frequency_rolling_mean'])\n",
    "px.line(df_tmp, x='FrameTimestamp_s', y='value', color='variable')"
   ]
  },
  {
   "cell_type": "code",
   "execution_count": null,
   "id": "8fb0c86f",
   "metadata": {},
   "outputs": [],
   "source": [
    "df_avg_filter.avg_edge_occurence.describe()"
   ]
  },
  {
   "cell_type": "code",
   "execution_count": null,
   "id": "5451bb5f",
   "metadata": {},
   "outputs": [],
   "source": [
    "# rucne urcena y_0 hladina z pocatku grafu\n",
    "y_0 = 409.5\n",
    "df_avg_filter['deviation_pixel'] = df_avg_filter.avg_edge_occurence - y_0\n",
    "df_avg_filter['deviation_mm'] = df_avg_filter.deviation_pixel / 2\n",
    "deviation_metric = 'deviation_mm'"
   ]
  },
  {
   "cell_type": "code",
   "execution_count": null,
   "id": "1d6d2c91",
   "metadata": {},
   "outputs": [],
   "source": [
    "px.histogram(df_avg_filter, x=deviation_metric, nbins=100)"
   ]
  },
  {
   "cell_type": "markdown",
   "id": "0b6ac0f9",
   "metadata": {},
   "source": [
    "#### Klouzavý výpis pro sekundový přehled\n",
    "\n",
    "Výhodou je kontinuální změna v průběhu testu. Nevýhodou je naivní způsob okno = 400 záznamů (i přesto, že to nemusí úplně sedět)."
   ]
  },
  {
   "cell_type": "code",
   "execution_count": null,
   "id": "d4832986",
   "metadata": {},
   "outputs": [],
   "source": [
    "df_400_rolling = df_avg_filter[deviation_metric].rolling(400).agg({'min': 'min', 'max': 'max', 'mean': 'mean'})\n",
    "df_400_rolling['percentil_10'] = df_avg_filter[deviation_metric].rolling(400).quantile(0.1)\n",
    "df_400_rolling['percentil_90'] = df_avg_filter[deviation_metric].rolling(400).quantile(0.9)\n",
    "df_400_rolling['FrameTimestamp_s'] = df_avg_filter.FrameTimestamp_s"
   ]
  },
  {
   "cell_type": "code",
   "execution_count": null,
   "id": "f05d037b",
   "metadata": {},
   "outputs": [],
   "source": [
    "df_tmp = df_400_rolling.iloc[:130000]\n",
    "df_tmp = pd.melt(df_tmp, id_vars=['FrameTimestamp_s'], value_vars=['min', 'max', 'mean', 'percentil_10', 'percentil_90'])\n",
    "fig = px.line(df_tmp, x='FrameTimestamp_s', y='value', color='variable', title=f'Klouzavá statistika rozptylů během vibračního testu (sloupec {deviation_metric})')\n",
    "fig.add_hline(y=0, line_width=1, line_dash='dash', line_color='black', opacity=0.7)\n",
    "fig.show()"
   ]
  },
  {
   "cell_type": "markdown",
   "id": "595c7f75",
   "metadata": {},
   "source": [
    "#### Minutová agregace vibračního testu"
   ]
  },
  {
   "cell_type": "code",
   "execution_count": null,
   "id": "75d413d2",
   "metadata": {},
   "outputs": [],
   "source": [
    "t_0 = df_avg_filter.iloc[0, :].FrameTimestamp_s\n",
    "df_avg_filter['elapsed_test_time_s'] = df_avg_filter.FrameTimestamp_s - t_0\n",
    "df_avg_filter['elapsed_test_time_min'] = df_avg_filter.elapsed_test_time_s / 60\n",
    "df_avg_filter['elapsed_test_time_min_floor'] =  np.floor(df_avg_filter.elapsed_test_time_min)"
   ]
  },
  {
   "cell_type": "code",
   "execution_count": null,
   "id": "cf28e4ec",
   "metadata": {},
   "outputs": [],
   "source": [
    "df_avg_filter.elapsed_test_time_min_floor.describe()"
   ]
  },
  {
   "cell_type": "code",
   "execution_count": null,
   "id": "db84a394",
   "metadata": {},
   "outputs": [],
   "source": [
    "fig = px.box(df_avg_filter, x='elapsed_test_time_min_floor', y=deviation_metric)\n",
    "fig.add_hline(y=0, line_width=1, line_dash='dash', line_color='black', opacity=0.7)\n",
    "fig.show()"
   ]
  },
  {
   "cell_type": "code",
   "execution_count": null,
   "id": "260331ee",
   "metadata": {},
   "outputs": [],
   "source": [
    "px.bar(df_avg_filter.groupby('elapsed_test_time_min_floor')[deviation_metric].mean().reset_index(),\n",
    "       x='elapsed_test_time_min_floor', y=deviation_metric,\n",
    "       title='Mean deviation in minutes of test')"
   ]
  },
  {
   "cell_type": "markdown",
   "id": "b79607d4",
   "metadata": {},
   "source": [
    "#### Agregace výsledku testu pro frekvence vibračního zařízení"
   ]
  },
  {
   "cell_type": "code",
   "execution_count": null,
   "id": "949f8d82",
   "metadata": {},
   "outputs": [],
   "source": [
    "# frekvence jsou cca od 3.8-61 Hz, vyhlazena frekvence je 6-58Hz\n",
    "# tahle buňka by možná zasloužila refactor na vektorové přiřazení hodnoty\n",
    "def get_frequency_bin_name(x):    \n",
    "    value = x.frequency_rolling_mean\n",
    "    if pd.isnull(value):\n",
    "        return pd.NA\n",
    "    assert value > 0\n",
    "    if value <= 10:\n",
    "        return '(0; 10> Hz'\n",
    "    elif value <= 15:\n",
    "        return '(10; 15> Hz'\n",
    "    elif value <= 20:\n",
    "        return '(15; 20> Hz'\n",
    "    elif value <= 25:\n",
    "        return '(20; 25> Hz'\n",
    "    elif value <= 30:\n",
    "        return '(25; 30> Hz'\n",
    "    elif value <= 35:\n",
    "        return '(30; 35> Hz'\n",
    "    elif value <= 40:\n",
    "        return '(35; 40> Hz'\n",
    "    elif value <= 45:\n",
    "        return '(40; 45> Hz'\n",
    "    elif value <= 50:\n",
    "        return '(45; 50> Hz'\n",
    "    elif value <= 55:\n",
    "        return '(50; 55> Hz'\n",
    "    elif value <= 65:\n",
    "        return '(55; 65> Hz'\n",
    "    else:\n",
    "        return pd.NA\n",
    "    \n",
    "df_avg_filter['frequency_bin'] = df_avg_filter[['frequency_rolling_mean']].apply(get_frequency_bin_name, axis=1)\n",
    "df_avg_filter.dropna(inplace=True)"
   ]
  },
  {
   "cell_type": "code",
   "execution_count": null,
   "id": "2880dd6c",
   "metadata": {},
   "outputs": [],
   "source": [
    "df_avg_filter['frequency_bin'].describe()"
   ]
  },
  {
   "cell_type": "code",
   "execution_count": null,
   "id": "15cffb7b",
   "metadata": {},
   "outputs": [],
   "source": [
    "px.bar(df_avg_filter.groupby('frequency_bin')[deviation_metric].mean().reset_index(),\n",
    "       x='frequency_bin', y=deviation_metric,\n",
    "       title='Mean deviation for frequency bins of test')"
   ]
  },
  {
   "cell_type": "code",
   "execution_count": null,
   "id": "09de4b95",
   "metadata": {},
   "outputs": [],
   "source": [
    "fig = px.box(df_avg_filter, x='frequency_bin', y=deviation_metric)\n",
    "fig.add_hline(y=0, line_width=1, line_dash='dash', line_color='black', opacity=0.7)\n",
    "fig.show()"
   ]
  },
  {
   "cell_type": "code",
   "execution_count": null,
   "id": "9c8fc23c",
   "metadata": {},
   "outputs": [],
   "source": []
  },
  {
   "cell_type": "code",
   "execution_count": null,
   "id": "29fda388",
   "metadata": {},
   "outputs": [],
   "source": []
  },
  {
   "cell_type": "code",
   "execution_count": null,
   "id": "b8ac51ad",
   "metadata": {},
   "outputs": [],
   "source": []
  }
 ],
 "metadata": {
  "kernelspec": {
   "display_name": "Python 3",
   "language": "python",
   "name": "python3"
  },
  "language_info": {
   "codemirror_mode": {
    "name": "ipython",
    "version": 3
   },
   "file_extension": ".py",
   "mimetype": "text/x-python",
   "name": "python",
   "nbconvert_exporter": "python",
   "pygments_lexer": "ipython3",
   "version": "3.7.4"
  }
 },
 "nbformat": 4,
 "nbformat_minor": 5
}

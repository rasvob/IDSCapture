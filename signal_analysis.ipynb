{
 "cells": [
  {
   "cell_type": "code",
   "execution_count": null,
   "metadata": {},
   "outputs": [],
   "source": [
    "import numpy as np\n",
    "import pandas as pd\n",
    "from matplotlib import pyplot as plt\n",
    "import cv2\n",
    "from tqdm.notebook import trange, tqdm"
   ]
  },
  {
   "cell_type": "code",
   "execution_count": null,
   "metadata": {},
   "outputs": [],
   "source": [
    "import plotly.express as px\n",
    "import plotly.graph_objects as go\n",
    "from plotly.subplots import make_subplots"
   ]
  },
  {
   "cell_type": "code",
   "execution_count": null,
   "metadata": {},
   "outputs": [],
   "source": [
    "input_files = r'C:\\Users\\svo0175\\Documents\\Work\\Svetlomet\\Hella_06_05_2021\\Hrabova_test_long_nove_svetlo\\Hrabova_test_long_nove_svetlo_cut_{0}.{1}'\n",
    "input_files = r'C:\\Users\\Petr\\Documents\\svetlomety\\data\\Hrabova_test_long_nove_svetlo\\Hrabova_test_long_nove_svetlo_cut_{0}.{1}'\n",
    "\n",
    "thresholds_arr = [10, 50, 100, 115]"
   ]
  },
  {
   "cell_type": "code",
   "execution_count": null,
   "metadata": {},
   "outputs": [],
   "source": [
    "dfs = {}\n",
    "for k in thresholds_arr:\n",
    "    dfs[k] = pd.read_parquet(input_files.format(k, 'parquet.gzip'), engine='pyarrow')"
   ]
  },
  {
   "cell_type": "code",
<<<<<<< HEAD
   "execution_count": 41,
   "metadata": {},
   "outputs": [],
   "source": [
    "df = dfs[10]\n",
    "# df = dfs[10].astype(int)"
=======
   "execution_count": null,
   "metadata": {},
   "outputs": [],
   "source": [
    "df = dfs[50]"
>>>>>>> 180102a15943ee835cb9f2f35126378f5c8dffe0
   ]
  },
  {
   "cell_type": "code",
<<<<<<< HEAD
   "execution_count": 42,
   "metadata": {},
   "outputs": [
    {
     "data": {
      "text/html": [
       "<div>\n",
       "<style scoped>\n",
       "    .dataframe tbody tr th:only-of-type {\n",
       "        vertical-align: middle;\n",
       "    }\n",
       "\n",
       "    .dataframe tbody tr th {\n",
       "        vertical-align: top;\n",
       "    }\n",
       "\n",
       "    .dataframe thead th {\n",
       "        text-align: right;\n",
       "    }\n",
       "</style>\n",
       "<table border=\"1\" class=\"dataframe\">\n",
       "  <thead>\n",
       "    <tr style=\"text-align: right;\">\n",
       "      <th></th>\n",
       "      <th>Row_0</th>\n",
       "      <th>Row_1</th>\n",
       "      <th>Row_2</th>\n",
       "      <th>Row_3</th>\n",
       "      <th>Row_4</th>\n",
       "      <th>Row_5</th>\n",
       "      <th>Row_6</th>\n",
       "      <th>Row_7</th>\n",
       "      <th>Row_8</th>\n",
       "      <th>Row_9</th>\n",
       "      <th>...</th>\n",
       "      <th>Row_247</th>\n",
       "      <th>Row_248</th>\n",
       "      <th>Row_249</th>\n",
       "      <th>Row_250</th>\n",
       "      <th>Row_251</th>\n",
       "      <th>Row_252</th>\n",
       "      <th>Row_253</th>\n",
       "      <th>Row_254</th>\n",
       "      <th>Row_255</th>\n",
       "      <th>FrameTimestamp_us</th>\n",
       "    </tr>\n",
       "  </thead>\n",
       "  <tbody>\n",
       "    <tr>\n",
       "      <th>0</th>\n",
       "      <td>328.0</td>\n",
       "      <td>328.0</td>\n",
       "      <td>328.0</td>\n",
       "      <td>328.0</td>\n",
       "      <td>328.0</td>\n",
       "      <td>328.0</td>\n",
       "      <td>328.0</td>\n",
       "      <td>328.0</td>\n",
       "      <td>328.0</td>\n",
       "      <td>328.0</td>\n",
       "      <td>...</td>\n",
       "      <td>328.0</td>\n",
       "      <td>328.0</td>\n",
       "      <td>328.0</td>\n",
       "      <td>328.0</td>\n",
       "      <td>328.0</td>\n",
       "      <td>328.0</td>\n",
       "      <td>328.0</td>\n",
       "      <td>328.0</td>\n",
       "      <td>328.0</td>\n",
       "      <td>19420328.3</td>\n",
       "    </tr>\n",
       "    <tr>\n",
       "      <th>1</th>\n",
       "      <td>330.0</td>\n",
       "      <td>330.0</td>\n",
       "      <td>330.0</td>\n",
       "      <td>330.0</td>\n",
       "      <td>330.0</td>\n",
       "      <td>330.0</td>\n",
       "      <td>330.0</td>\n",
       "      <td>330.0</td>\n",
       "      <td>330.0</td>\n",
       "      <td>330.0</td>\n",
       "      <td>...</td>\n",
       "      <td>328.0</td>\n",
       "      <td>328.0</td>\n",
       "      <td>328.0</td>\n",
       "      <td>328.0</td>\n",
       "      <td>328.0</td>\n",
       "      <td>328.0</td>\n",
       "      <td>328.0</td>\n",
       "      <td>328.0</td>\n",
       "      <td>328.0</td>\n",
       "      <td>19422833.4</td>\n",
       "    </tr>\n",
       "    <tr>\n",
       "      <th>2</th>\n",
       "      <td>330.0</td>\n",
       "      <td>330.0</td>\n",
       "      <td>330.0</td>\n",
       "      <td>330.0</td>\n",
       "      <td>330.0</td>\n",
       "      <td>330.0</td>\n",
       "      <td>330.0</td>\n",
       "      <td>330.0</td>\n",
       "      <td>330.0</td>\n",
       "      <td>330.0</td>\n",
       "      <td>...</td>\n",
       "      <td>329.0</td>\n",
       "      <td>329.0</td>\n",
       "      <td>329.0</td>\n",
       "      <td>329.0</td>\n",
       "      <td>329.0</td>\n",
       "      <td>329.0</td>\n",
       "      <td>329.0</td>\n",
       "      <td>329.0</td>\n",
       "      <td>329.0</td>\n",
       "      <td>19425339.5</td>\n",
       "    </tr>\n",
       "    <tr>\n",
       "      <th>3</th>\n",
       "      <td>330.0</td>\n",
       "      <td>330.0</td>\n",
       "      <td>330.0</td>\n",
       "      <td>330.0</td>\n",
       "      <td>330.0</td>\n",
       "      <td>330.0</td>\n",
       "      <td>330.0</td>\n",
       "      <td>330.0</td>\n",
       "      <td>330.0</td>\n",
       "      <td>330.0</td>\n",
       "      <td>...</td>\n",
       "      <td>329.0</td>\n",
       "      <td>329.0</td>\n",
       "      <td>329.0</td>\n",
       "      <td>329.0</td>\n",
       "      <td>329.0</td>\n",
       "      <td>329.0</td>\n",
       "      <td>329.0</td>\n",
       "      <td>329.0</td>\n",
       "      <td>329.0</td>\n",
       "      <td>19427844.3</td>\n",
       "    </tr>\n",
       "    <tr>\n",
       "      <th>4</th>\n",
       "      <td>331.0</td>\n",
       "      <td>331.0</td>\n",
       "      <td>331.0</td>\n",
       "      <td>331.0</td>\n",
       "      <td>331.0</td>\n",
       "      <td>331.0</td>\n",
       "      <td>331.0</td>\n",
       "      <td>331.0</td>\n",
       "      <td>331.0</td>\n",
       "      <td>331.0</td>\n",
       "      <td>...</td>\n",
       "      <td>329.0</td>\n",
       "      <td>329.0</td>\n",
       "      <td>329.0</td>\n",
       "      <td>329.0</td>\n",
       "      <td>329.0</td>\n",
       "      <td>329.0</td>\n",
       "      <td>329.0</td>\n",
       "      <td>329.0</td>\n",
       "      <td>329.0</td>\n",
       "      <td>19430359.8</td>\n",
       "    </tr>\n",
       "  </tbody>\n",
       "</table>\n",
       "<p>5 rows × 257 columns</p>\n",
       "</div>"
      ],
      "text/plain": [
       "   Row_0  Row_1  Row_2  Row_3  Row_4  Row_5  Row_6  Row_7  Row_8  Row_9  ...  \\\n",
       "0  328.0  328.0  328.0  328.0  328.0  328.0  328.0  328.0  328.0  328.0  ...   \n",
       "1  330.0  330.0  330.0  330.0  330.0  330.0  330.0  330.0  330.0  330.0  ...   \n",
       "2  330.0  330.0  330.0  330.0  330.0  330.0  330.0  330.0  330.0  330.0  ...   \n",
       "3  330.0  330.0  330.0  330.0  330.0  330.0  330.0  330.0  330.0  330.0  ...   \n",
       "4  331.0  331.0  331.0  331.0  331.0  331.0  331.0  331.0  331.0  331.0  ...   \n",
       "\n",
       "   Row_247  Row_248  Row_249  Row_250  Row_251  Row_252  Row_253  Row_254  \\\n",
       "0    328.0    328.0    328.0    328.0    328.0    328.0    328.0    328.0   \n",
       "1    328.0    328.0    328.0    328.0    328.0    328.0    328.0    328.0   \n",
       "2    329.0    329.0    329.0    329.0    329.0    329.0    329.0    329.0   \n",
       "3    329.0    329.0    329.0    329.0    329.0    329.0    329.0    329.0   \n",
       "4    329.0    329.0    329.0    329.0    329.0    329.0    329.0    329.0   \n",
       "\n",
       "   Row_255  FrameTimestamp_us  \n",
       "0    328.0         19420328.3  \n",
       "1    328.0         19422833.4  \n",
       "2    329.0         19425339.5  \n",
       "3    329.0         19427844.3  \n",
       "4    329.0         19430359.8  \n",
       "\n",
       "[5 rows x 257 columns]"
      ]
     },
     "execution_count": 42,
     "metadata": {},
     "output_type": "execute_result"
    }
   ],
=======
   "execution_count": null,
   "metadata": {},
   "outputs": [],
>>>>>>> 180102a15943ee835cb9f2f35126378f5c8dffe0
   "source": [
<<<<<<< HEAD
=======
    "df.head()"
   ]
  },
  {
   "cell_type": "code",
<<<<<<< HEAD
   "execution_count": 43,
   "metadata": {},
   "outputs": [
    {
     "data": {
      "text/html": [
       "<div>\n",
       "<style scoped>\n",
       "    .dataframe tbody tr th:only-of-type {\n",
       "        vertical-align: middle;\n",
       "    }\n",
       "\n",
       "    .dataframe tbody tr th {\n",
       "        vertical-align: top;\n",
       "    }\n",
       "\n",
       "    .dataframe thead th {\n",
       "        text-align: right;\n",
       "    }\n",
       "</style>\n",
       "<table border=\"1\" class=\"dataframe\">\n",
       "  <thead>\n",
       "    <tr style=\"text-align: right;\">\n",
       "      <th></th>\n",
       "      <th>Row_0</th>\n",
       "      <th>Row_1</th>\n",
       "      <th>Row_2</th>\n",
       "      <th>Row_3</th>\n",
       "      <th>Row_4</th>\n",
       "      <th>Row_5</th>\n",
       "      <th>Row_6</th>\n",
       "      <th>Row_7</th>\n",
       "      <th>Row_8</th>\n",
       "      <th>Row_9</th>\n",
       "      <th>...</th>\n",
       "      <th>Row_247</th>\n",
       "      <th>Row_248</th>\n",
       "      <th>Row_249</th>\n",
       "      <th>Row_250</th>\n",
       "      <th>Row_251</th>\n",
       "      <th>Row_252</th>\n",
       "      <th>Row_253</th>\n",
       "      <th>Row_254</th>\n",
       "      <th>Row_255</th>\n",
       "      <th>FrameTimestamp_us</th>\n",
       "    </tr>\n",
       "  </thead>\n",
       "  <tbody>\n",
       "    <tr>\n",
       "      <th>495588</th>\n",
       "      <td>328.0</td>\n",
       "      <td>328.0</td>\n",
       "      <td>328.0</td>\n",
       "      <td>328.0</td>\n",
       "      <td>328.0</td>\n",
       "      <td>328.0</td>\n",
       "      <td>328.0</td>\n",
       "      <td>328.0</td>\n",
       "      <td>328.0</td>\n",
       "      <td>328.0</td>\n",
       "      <td>...</td>\n",
       "      <td>336.0</td>\n",
       "      <td>336.0</td>\n",
       "      <td>336.0</td>\n",
       "      <td>336.0</td>\n",
       "      <td>336.0</td>\n",
       "      <td>336.0</td>\n",
       "      <td>336.0</td>\n",
       "      <td>336.0</td>\n",
       "      <td>336.0</td>\n",
       "      <td>1.268672e+09</td>\n",
       "    </tr>\n",
       "    <tr>\n",
       "      <th>495589</th>\n",
       "      <td>326.0</td>\n",
       "      <td>326.0</td>\n",
       "      <td>326.0</td>\n",
       "      <td>326.0</td>\n",
       "      <td>326.0</td>\n",
       "      <td>326.0</td>\n",
       "      <td>326.0</td>\n",
       "      <td>326.0</td>\n",
       "      <td>326.0</td>\n",
       "      <td>326.0</td>\n",
       "      <td>...</td>\n",
       "      <td>333.0</td>\n",
       "      <td>333.0</td>\n",
       "      <td>333.0</td>\n",
       "      <td>333.0</td>\n",
       "      <td>333.0</td>\n",
       "      <td>333.0</td>\n",
       "      <td>333.0</td>\n",
       "      <td>333.0</td>\n",
       "      <td>333.0</td>\n",
       "      <td>1.268675e+09</td>\n",
       "    </tr>\n",
       "    <tr>\n",
       "      <th>495590</th>\n",
       "      <td>0.0</td>\n",
       "      <td>0.0</td>\n",
       "      <td>0.0</td>\n",
       "      <td>0.0</td>\n",
       "      <td>0.0</td>\n",
       "      <td>0.0</td>\n",
       "      <td>0.0</td>\n",
       "      <td>0.0</td>\n",
       "      <td>0.0</td>\n",
       "      <td>0.0</td>\n",
       "      <td>...</td>\n",
       "      <td>0.0</td>\n",
       "      <td>0.0</td>\n",
       "      <td>0.0</td>\n",
       "      <td>0.0</td>\n",
       "      <td>0.0</td>\n",
       "      <td>0.0</td>\n",
       "      <td>0.0</td>\n",
       "      <td>0.0</td>\n",
       "      <td>0.0</td>\n",
       "      <td>1.268677e+09</td>\n",
       "    </tr>\n",
       "    <tr>\n",
       "      <th>495591</th>\n",
       "      <td>0.0</td>\n",
       "      <td>0.0</td>\n",
       "      <td>0.0</td>\n",
       "      <td>0.0</td>\n",
       "      <td>0.0</td>\n",
       "      <td>0.0</td>\n",
       "      <td>0.0</td>\n",
       "      <td>0.0</td>\n",
       "      <td>0.0</td>\n",
       "      <td>0.0</td>\n",
       "      <td>...</td>\n",
       "      <td>0.0</td>\n",
       "      <td>0.0</td>\n",
       "      <td>0.0</td>\n",
       "      <td>0.0</td>\n",
       "      <td>0.0</td>\n",
       "      <td>0.0</td>\n",
       "      <td>0.0</td>\n",
       "      <td>0.0</td>\n",
       "      <td>0.0</td>\n",
       "      <td>1.268680e+09</td>\n",
       "    </tr>\n",
       "    <tr>\n",
       "      <th>495592</th>\n",
       "      <td>0.0</td>\n",
       "      <td>0.0</td>\n",
       "      <td>0.0</td>\n",
       "      <td>0.0</td>\n",
       "      <td>0.0</td>\n",
       "      <td>0.0</td>\n",
       "      <td>0.0</td>\n",
       "      <td>0.0</td>\n",
       "      <td>0.0</td>\n",
       "      <td>0.0</td>\n",
       "      <td>...</td>\n",
       "      <td>0.0</td>\n",
       "      <td>0.0</td>\n",
       "      <td>0.0</td>\n",
       "      <td>0.0</td>\n",
       "      <td>0.0</td>\n",
       "      <td>0.0</td>\n",
       "      <td>0.0</td>\n",
       "      <td>0.0</td>\n",
       "      <td>0.0</td>\n",
       "      <td>1.268682e+09</td>\n",
       "    </tr>\n",
       "  </tbody>\n",
       "</table>\n",
       "<p>5 rows × 257 columns</p>\n",
       "</div>"
      ],
      "text/plain": [
       "        Row_0  Row_1  Row_2  Row_3  Row_4  Row_5  Row_6  Row_7  Row_8  Row_9  \\\n",
       "495588  328.0  328.0  328.0  328.0  328.0  328.0  328.0  328.0  328.0  328.0   \n",
       "495589  326.0  326.0  326.0  326.0  326.0  326.0  326.0  326.0  326.0  326.0   \n",
       "495590    0.0    0.0    0.0    0.0    0.0    0.0    0.0    0.0    0.0    0.0   \n",
       "495591    0.0    0.0    0.0    0.0    0.0    0.0    0.0    0.0    0.0    0.0   \n",
       "495592    0.0    0.0    0.0    0.0    0.0    0.0    0.0    0.0    0.0    0.0   \n",
       "\n",
       "        ...  Row_247  Row_248  Row_249  Row_250  Row_251  Row_252  Row_253  \\\n",
       "495588  ...    336.0    336.0    336.0    336.0    336.0    336.0    336.0   \n",
       "495589  ...    333.0    333.0    333.0    333.0    333.0    333.0    333.0   \n",
       "495590  ...      0.0      0.0      0.0      0.0      0.0      0.0      0.0   \n",
       "495591  ...      0.0      0.0      0.0      0.0      0.0      0.0      0.0   \n",
       "495592  ...      0.0      0.0      0.0      0.0      0.0      0.0      0.0   \n",
       "\n",
       "        Row_254  Row_255  FrameTimestamp_us  \n",
       "495588    336.0    336.0       1.268672e+09  \n",
       "495589    333.0    333.0       1.268675e+09  \n",
       "495590      0.0      0.0       1.268677e+09  \n",
       "495591      0.0      0.0       1.268680e+09  \n",
       "495592      0.0      0.0       1.268682e+09  \n",
       "\n",
       "[5 rows x 257 columns]"
      ]
     },
     "execution_count": 43,
     "metadata": {},
     "output_type": "execute_result"
    }
   ],
=======
   "execution_count": null,
   "metadata": {},
   "outputs": [],
>>>>>>> 180102a15943ee835cb9f2f35126378f5c8dffe0
   "source": [
    "df.tail()"
   ]
  },
  {
   "cell_type": "code",
   "execution_count": null,
   "metadata": {},
   "outputs": [],
   "source": [
>>>>>>> 173710ecb2c066cf2a6995f8de99b666f7545c3e
    "df.shape"
   ]
  },
  {
   "cell_type": "code",
<<<<<<< HEAD
   "execution_count": 34,
   "metadata": {},
   "outputs": [
    {
     "data": {
      "text/plain": [
       "495590    256\n",
       "495591    256\n",
       "495592    256\n",
       "dtype: int64"
      ]
     },
     "execution_count": 34,
     "metadata": {},
     "output_type": "execute_result"
    }
   ],
=======
   "execution_count": null,
   "metadata": {},
   "outputs": [],
>>>>>>> 180102a15943ee835cb9f2f35126378f5c8dffe0
   "source": [
<<<<<<< HEAD
    "df.describe()"
=======
    "zeros = df.iloc[:, :-1].applymap(lambda x: x < 1.0).sum(axis=1)\n",
    "zeros[zeros > 0]"
>>>>>>> 173710ecb2c066cf2a6995f8de99b666f7545c3e
   ]
  },
  {
   "cell_type": "markdown",
   "metadata": {},
   "source": [
    "##### Jelikož je ve všech sloupcích podobná popisná statistika je pro agregaci hranice detekované přechodové hrany zvolen průměr mezi všemi sloupci obrazu."
   ]
  },
  {
   "cell_type": "code",
   "execution_count": null,
   "metadata": {},
   "outputs": [],
   "source": [
    "df_avg = pd.DataFrame()\n",
    "df_avg['FrameTimestamp_us'] = df.FrameTimestamp_us\n",
    "df_avg['avg_edge_occurence'] = df.iloc[:, :-1].mean(axis=1)\n",
    "print(df_avg.shape)\n",
    "df_avg.head()"
   ]
  },
  {
   "cell_type": "code",
   "execution_count": null,
   "metadata": {},
   "outputs": [],
   "source": [
    "df_avg.describe()"
   ]
  },
  {
   "cell_type": "markdown",
   "metadata": {},
   "source": [
    "#### Zobrazení signálu"
   ]
  },
  {
   "cell_type": "code",
   "execution_count": null,
   "metadata": {},
   "outputs": [],
   "source": [
    "df_tmp = df_avg.iloc[:50000]\n",
    "px.line(x=df_tmp.FrameTimestamp_us, y=df_tmp.avg_edge_occurence)"
   ]
  },
  {
   "cell_type": "code",
   "execution_count": null,
   "metadata": {},
   "outputs": [],
   "source": [
    "df_tmp = df_avg.iloc[50000:150000]\n",
    "px.line(x=df_tmp.FrameTimestamp_us, y=df_tmp.avg_edge_occurence)"
   ]
  },
  {
   "cell_type": "code",
   "execution_count": null,
   "metadata": {},
   "outputs": [],
   "source": [
    "df_tmp = df_avg\n",
    "px.line(x=df_tmp.FrameTimestamp_us, y=df_tmp.avg_edge_occurence)"
   ]
  },
  {
   "cell_type": "markdown",
   "metadata": {},
   "source": [
    "#### Kontrola velkých změn mezi snímky - podezrele mista v kvalite video zaznamu"
   ]
  },
  {
   "cell_type": "code",
   "execution_count": null,
   "metadata": {},
   "outputs": [],
   "source": [
    "(df_avg - df_avg.shift())[['FrameTimestamp_us', 'avg_edge_occurence']].describe(percentiles=[.01, .1, .25, .5, .75, .9, .99])"
   ]
  },
  {
   "cell_type": "code",
   "execution_count": null,
   "metadata": {},
   "outputs": [],
   "source": [
    "df_avg['edge_shift'] = df_avg.avg_edge_occurence - df_avg.shift().avg_edge_occurence\n",
    "px.line(x=df_avg.FrameTimestamp_us, y=df_avg.edge_shift)"
   ]
  },
  {
   "cell_type": "markdown",
   "metadata": {},
   "source": [
    "Z předchozího grafu lze vidět, že přechody mezi snímky odpovídají velikosti rozkmitu. Obsahují pouze jednotlivé výkyvy (vzniklé například přeskočením snímku) a nelze nalézt region, který by obsahoval větší počet podezřelých přechodů."
   ]
  },
  {
   "cell_type": "markdown",
   "metadata": {},
   "source": [
    "#### Detekce periody\n",
    "\n",
    "Pro výpočet byl použit postup počítání přechodů \"0\" signálu v našem případě použit průměr jako hranice přechodu rozkmitu.\n",
    "\n",
    "U výpočtu průměrné hladiny rozkmitu bylo zvoleno okno 800 záznamů z videa. Tato hodnota byla vypočtena z předpokladu alespoň 10 cyklů pro určení aktuální frekvence a nejnižší předpokládáne frekvenci 5 Hz.\n",
    "\n",
    "Jelikož se ukázalo, že u detekce přechodu přes průměr dochází k nepřesnostem, byl použit průměr 10 záznamů pro vyhlazení originálního signálu. "
   ]
  },
  {
   "cell_type": "code",
   "execution_count": null,
   "metadata": {},
   "outputs": [],
   "source": [
    "df_avg['smoothed_avg_edge_occurence'] = df_avg.rolling(10, center=True).avg_edge_occurence.mean()\n",
    "df_avg['rolling_avg_edge_occurence'] = df_avg.rolling(800, center=True).avg_edge_occurence.mean()"
   ]
  },
  {
   "cell_type": "code",
   "execution_count": null,
   "metadata": {},
   "outputs": [],
   "source": [
    "df_tmp = df_avg.iloc[10000:150000]\n",
    "df_tmp = pd.melt(df_tmp, id_vars=['FrameTimestamp_us'], value_vars=['avg_edge_occurence', 'smoothed_avg_edge_occurence', 'rolling_avg_edge_occurence'])\n",
    "px.line(df_tmp, x='FrameTimestamp_us', y='value', color='variable')"
   ]
  },
  {
   "cell_type": "code",
   "execution_count": null,
   "metadata": {},
   "outputs": [],
   "source": [
    "df_avg.loc[df_avg.avg_edge_occurence>=df_avg.rolling_avg_edge_occurence, 'polarity'] = 1\n",
    "df_avg.loc[df_avg.avg_edge_occurence<df_avg.rolling_avg_edge_occurence, 'polarity'] = -1\n",
    "df_avg['polarity_shift_abs'] = abs(df_avg.polarity-df_avg.polarity.shift())\n",
    "df_avg['polarity_shift'] = df_avg.polarity-df_avg.polarity.shift()\n",
    "df_avg.loc[df_avg.smoothed_avg_edge_occurence>=df_avg.rolling_avg_edge_occurence, 'polarity_smoothed'] = 1\n",
    "df_avg.loc[df_avg.smoothed_avg_edge_occurence<df_avg.rolling_avg_edge_occurence, 'polarity_smoothed'] = -1\n",
    "df_avg['polarity_smoothed_shift_abs'] = abs(df_avg.polarity_smoothed-df_avg.polarity_smoothed.shift())\n",
    "df_avg['polarity_smoothed_shift'] = df_avg.polarity_smoothed-df_avg.polarity_smoothed.shift()"
   ]
  },
  {
   "cell_type": "code",
   "execution_count": null,
   "metadata": {},
   "outputs": [],
   "source": [
    "df_tmp = df_avg.iloc[10000:150000]\n",
    "df_tmp = pd.melt(df_tmp, id_vars=['FrameTimestamp_us'], value_vars=['avg_edge_occurence', 'rolling_avg_edge_occurence', 'polarity', 'polarity_shift', 'polarity_smoothed', 'polarity_smoothed_shift'])\n",
    "px.line(df_tmp, x='FrameTimestamp_us', y='value', color='variable')"
   ]
  },
  {
   "cell_type": "code",
   "execution_count": null,
   "metadata": {},
   "outputs": [],
   "source": [
    "df_tmp = df_avg[(df_avg.FrameTimestamp_us >= 244925000) & (df_avg.FrameTimestamp_us <= 245200000)]\n",
    "df_tmp = pd.melt(df_tmp, id_vars=['FrameTimestamp_us'], value_vars=['avg_edge_occurence', 'rolling_avg_edge_occurence', 'polarity', 'polarity_shift', 'polarity_smoothed', 'polarity_smoothed_shift'])\n",
    "px.line(df_tmp, x='FrameTimestamp_us', y='value', color='variable')"
   ]
  },
  {
   "cell_type": "markdown",
   "metadata": {},
   "source": [
    "#### Výpočet periody"
   ]
  },
  {
   "cell_type": "code",
   "execution_count": null,
   "metadata": {},
   "outputs": [],
   "source": [
    "df_avg['frames_timediff_us'] = df_avg.FrameTimestamp_us - df_avg.FrameTimestamp_us.shift()\n",
    "df_avg['periody_start_mark'] = 0\n",
    "df_avg.loc[df_avg.polarity_smoothed_shift == 2, 'periody_start_mark'] = 1\n",
    "df_avg['rolling_sum_frames_timediff_us'] = df_avg.rolling(800, center=True).frames_timediff_us.sum()\n",
    "df_avg['rolling_sum_periody_start_mark'] = df_avg.rolling(800, center=True).periody_start_mark.sum()\n",
    "df_avg['frequency'] = 1 / (df_avg.rolling_sum_frames_timediff_us / df_avg.rolling_sum_periody_start_mark / 10**6)"
   ]
  },
  {
   "cell_type": "code",
   "execution_count": null,
   "metadata": {
    "scrolled": true
   },
   "outputs": [],
   "source": [
    "df_avg.iloc[1100:1150,:]"
   ]
  },
  {
   "cell_type": "code",
   "execution_count": null,
   "metadata": {},
   "outputs": [],
   "source": [
    "df_avg.frequency.describe()"
   ]
  },
  {
   "cell_type": "code",
   "execution_count": null,
   "metadata": {},
   "outputs": [],
   "source": [
    "df_tmp = df_avg.iloc[10000:150000]\n",
    "px.line(df_tmp, x='FrameTimestamp_us', y='frequency')"
   ]
  },
  {
   "cell_type": "code",
   "execution_count": null,
   "metadata": {},
   "outputs": [],
   "source": [
    "px.line(df_avg, x='FrameTimestamp_us', y='frequency')"
   ]
  },
  {
   "cell_type": "code",
   "execution_count": null,
   "metadata": {},
   "outputs": [],
   "source": []
  },
  {
   "cell_type": "markdown",
   "metadata": {},
   "source": [
    "##### Několik omezení, se kterým zatím pracujeme:\n",
    "\n",
    "Při výpočtu průměru se počítá s centrováním plovoucího okna, což nepočítá s real time zpracováním.\n",
    "\n"
   ]
  }
 ],
 "metadata": {
  "kernelspec": {
   "display_name": "venv-hella",
   "language": "python",
   "name": "venv-hella"
  },
  "language_info": {
   "codemirror_mode": {
    "name": "ipython",
    "version": 3
   },
   "file_extension": ".py",
   "mimetype": "text/x-python",
   "name": "python",
   "nbconvert_exporter": "python",
   "pygments_lexer": "ipython3",
   "version": "3.7.4"
  }
 },
 "nbformat": 4,
 "nbformat_minor": 4
}

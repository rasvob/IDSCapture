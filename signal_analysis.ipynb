{
 "cells": [
  {
   "cell_type": "code",
   "execution_count": null,
   "metadata": {},
   "outputs": [],
   "source": [
    "import numpy as np\n",
    "import pandas as pd\n",
    "from matplotlib import pyplot as plt\n",
    "import cv2\n",
    "from tqdm.notebook import trange, tqdm"
   ]
  },
  {
   "cell_type": "code",
   "execution_count": null,
   "metadata": {},
   "outputs": [],
   "source": [
    "import plotly.express as px\n",
    "import plotly.graph_objects as go\n",
    "from plotly.subplots import make_subplots"
   ]
  },
  {
   "cell_type": "code",
   "execution_count": null,
   "metadata": {},
   "outputs": [],
   "source": [
    "input_files = r'C:\\Users\\svo0175\\Documents\\Work\\Svetlomet\\Hella_06_05_2021\\Hrabova_test_long_nove_svetlo\\Hrabova_test_long_nove_svetlo_cut_{0}.{1}'\n",
    "input_files = r'C:\\Users\\Petr\\Documents\\svetlomety\\data\\Hrabova_test_long_nove_svetlo\\Hrabova_test_long_nove_svetlo_cut_{0}.{1}'\n",
    "\n",
    "thresholds_arr = [10, 50, 100, 115]"
   ]
  },
  {
   "cell_type": "code",
   "execution_count": null,
   "metadata": {},
   "outputs": [],
   "source": [
    "dfs = {}\n",
    "for k in thresholds_arr:\n",
    "    dfs[k] = pd.read_parquet(input_files.format(k, 'parquet.gzip'), engine='pyarrow')"
   ]
  },
  {
   "cell_type": "code",
   "execution_count": null,
   "metadata": {},
   "outputs": [],
   "source": [
    "df = dfs[50]"
   ]
  },
  {
   "cell_type": "code",
   "execution_count": null,
   "metadata": {},
   "outputs": [],
   "source": [
    "df.head()"
   ]
  },
  {
   "cell_type": "code",
   "execution_count": null,
   "metadata": {},
   "outputs": [],
   "source": [
    "df.tail()"
   ]
  },
  {
   "cell_type": "code",
   "execution_count": null,
   "metadata": {},
   "outputs": [],
   "source": [
    "df.shape"
   ]
  },
  {
   "cell_type": "code",
   "execution_count": null,
   "metadata": {},
   "outputs": [],
   "source": [
    "df.iloc[:100, :].apply(lambda x: x < 1.0, axis=1)"
   ]
  },
  {
   "cell_type": "code",
   "execution_count": null,
   "metadata": {},
   "outputs": [],
   "source": [
    "df.describe()"
   ]
  },
  {
   "cell_type": "code",
   "execution_count": null,
   "metadata": {},
   "outputs": [],
   "source": [
    "df_avg = pd.DataFrame()\n",
    "df_avg['FrameTimestamp_us'] = df.FrameTimestamp_us\n",
    "df_avg['avg_edge_occurence'] = df.iloc[:, :-1].mean(axis=1)\n",
    "print(df_avg.shape)\n",
    "df_avg.head()"
   ]
  },
  {
   "cell_type": "code",
   "execution_count": null,
   "metadata": {},
   "outputs": [],
   "source": [
    "df_avg.describe()"
   ]
  },
  {
   "cell_type": "code",
   "execution_count": null,
   "metadata": {},
   "outputs": [],
   "source": [
    "df_tmp = df_avg.iloc[:50000]\n",
    "px.line(x=df_tmp.FrameTimestamp_us, y=df_tmp.avg_edge_occurence)"
   ]
  },
  {
   "cell_type": "code",
   "execution_count": null,
   "metadata": {},
   "outputs": [],
   "source": [
    "df_tmp = df_avg.iloc[50000:150000]\n",
    "px.line(x=df_tmp.FrameTimestamp_us, y=df_tmp.avg_edge_occurence)"
   ]
  },
  {
   "cell_type": "code",
   "execution_count": null,
   "metadata": {},
   "outputs": [],
   "source": [
    "df_tmp = df_avg\n",
    "px.line(x=df_tmp.FrameTimestamp_us, y=df_tmp.avg_edge_occurence)"
   ]
  },
  {
   "cell_type": "code",
   "execution_count": null,
   "metadata": {},
   "outputs": [],
   "source": [
    "df_tmp = df_avg.iloc[50000:250000]\n",
    "px.line(x=df_tmp.index, y=df_tmp.avg_edge_occurence)"
   ]
  },
  {
   "cell_type": "code",
   "execution_count": null,
   "metadata": {},
   "outputs": [],
   "source": [
    "df_tmp = df_avg.iloc[10000:150000]\n",
    "px.line(x=df_tmp.FrameTimestamp_us, y=df_tmp.avg_edge_occurence)"
   ]
  },
  {
   "cell_type": "markdown",
   "metadata": {},
   "source": [
    "10 period v ruznych casovych usecich:\n",
    "\n",
    "55.5241M - 57.88037M\n",
    "131.3595M - 131.839M\n",
    "239.5904M - 239.8361M\n",
    "326.6124M - 326.7854M"
   ]
  },
  {
   "cell_type": "markdown",
   "metadata": {},
   "source": [
    "### Kontrola velkych zmen - podezrele mista v kvalite video zaznamu"
   ]
  },
  {
   "cell_type": "code",
   "execution_count": null,
   "metadata": {},
   "outputs": [],
   "source": [
    "(df_avg - df_avg.shift())[['FrameTimestamp_us', 'avg_edge_occurence']].describe(percentiles=[.01, .1, .25, .5, .75, .9, .99])"
   ]
  },
  {
   "cell_type": "code",
   "execution_count": null,
   "metadata": {},
   "outputs": [],
   "source": [
    "df_avg['edge_shift'] = df_avg.avg_edge_occurence - df_avg.shift().avg_edge_occurence\n",
    "px.line(x=df_avg.FrameTimestamp_us, y=df_avg.edge_shift)"
   ]
  },
  {
   "cell_type": "code",
   "execution_count": null,
   "metadata": {},
   "outputs": [],
   "source": []
  },
  {
   "cell_type": "code",
   "execution_count": null,
   "metadata": {},
   "outputs": [],
   "source": []
  },
  {
   "cell_type": "code",
   "execution_count": null,
   "metadata": {},
   "outputs": [],
   "source": [
    "#df_avg['rolling_avg_edge_occurence'] = df_avg.rolling(800, win_type='triang').avg_edge_occurence.mean()\n",
    "df_avg['smoothed_avg_edge_occurence'] = df_avg.rolling(10, center=True).avg_edge_occurence.mean()\n",
    "df_avg['rolling_avg_edge_occurence'] = df_avg.rolling(800, center=True).avg_edge_occurence.mean()"
   ]
  },
  {
   "cell_type": "code",
   "execution_count": null,
   "metadata": {},
   "outputs": [],
   "source": [
    "df_tmp = df_avg.iloc[10000:150000]\n",
    "df_tmp = pd.melt(df_tmp, id_vars=['FrameTimestamp_us'], value_vars=['avg_edge_occurence', 'smoothed_avg_edge_occurence', 'rolling_avg_edge_occurence'])\n",
    "px.line(df_tmp, x='FrameTimestamp_us', y='value', color='variable')"
   ]
  },
  {
   "cell_type": "code",
   "execution_count": null,
   "metadata": {},
   "outputs": [],
   "source": [
    "df_avg.loc[df_avg.avg_edge_occurence>=df_avg.rolling_avg_edge_occurence, 'polarity'] = 1\n",
    "df_avg.loc[df_avg.avg_edge_occurence<df_avg.rolling_avg_edge_occurence, 'polarity'] = -1\n",
    "df_avg['polarity_shift_abs'] = abs(df_avg.polarity-df_avg.polarity.shift())\n",
    "df_avg['polarity_shift'] = df_avg.polarity-df_avg.polarity.shift()\n",
    "df_avg.loc[df_avg.smoothed_avg_edge_occurence>=df_avg.rolling_avg_edge_occurence, 'polarity_smoothed'] = 1\n",
    "df_avg.loc[df_avg.smoothed_avg_edge_occurence<df_avg.rolling_avg_edge_occurence, 'polarity_smoothed'] = -1\n",
    "df_avg['polarity_smoothed_shift_abs'] = abs(df_avg.polarity_smoothed-df_avg.polarity_smoothed.shift())\n",
    "df_avg['polarity_smoothed_shift'] = df_avg.polarity_smoothed-df_avg.polarity_smoothed.shift()"
   ]
  },
  {
   "cell_type": "code",
   "execution_count": null,
   "metadata": {},
   "outputs": [],
   "source": [
    "df_tmp = df_avg.iloc[10000:150000]\n",
    "df_tmp = pd.melt(df_tmp, id_vars=['FrameTimestamp_us'], value_vars=['avg_edge_occurence', 'rolling_avg_edge_occurence', 'polarity', 'polarity_shift', 'polarity_smoothed', 'polarity_smoothed_shift'])\n",
    "px.line(df_tmp, x='FrameTimestamp_us', y='value', color='variable')"
   ]
  },
  {
   "cell_type": "code",
   "execution_count": null,
   "metadata": {},
   "outputs": [],
   "source": [
    "df_tmp = df_avg[(df_avg.FrameTimestamp_us >= 244925000) & (df_avg.FrameTimestamp_us <= 245200000)]\n",
    "df_tmp = pd.melt(df_tmp, id_vars=['FrameTimestamp_us'], value_vars=['avg_edge_occurence', 'rolling_avg_edge_occurence', 'polarity', 'polarity_shift', 'polarity_smoothed', 'polarity_smoothed_shift'])\n",
    "px.line(df_tmp, x='FrameTimestamp_us', y='value', color='variable')"
   ]
  },
  {
   "cell_type": "code",
   "execution_count": null,
   "metadata": {},
   "outputs": [],
   "source": [
    "df_tmp = df_avg.iloc[10000:150000]\n",
    "df_tmp = df_tmp.reset_index()\n",
    "df_tmp = pd.melt(df_tmp, id_vars=['index'], value_vars=['avg_edge_occurence', 'rolling_avg_edge_occurence', 'polarity', 'polarity_shift_abs'])\n",
    "px.line(df_tmp, x='index', y='value', color='variable')"
   ]
  },
  {
   "cell_type": "code",
   "execution_count": null,
   "metadata": {},
   "outputs": [],
   "source": [
    "df_avg['rolling_q25'] = df_avg.rolling(800).avg_edge_occurence.quantile(.25)\n",
    "df_avg['rolling_q75'] = df_avg.rolling(800).avg_edge_occurence.quantile(.75)"
   ]
  },
  {
   "cell_type": "code",
   "execution_count": null,
   "metadata": {},
   "outputs": [],
   "source": [
    "df_tmp = df_avg.iloc[10000:150000]\n",
    "df_tmp = pd.melt(df_tmp, id_vars=['FrameTimestamp_us'], value_vars=['avg_edge_occurence', 'rolling_avg_edge_occurence', 'rolling_q25', 'rolling_q75'])\n",
    "px.line(df_tmp, x='FrameTimestamp_us', y='value', color='variable')"
   ]
  },
  {
   "cell_type": "code",
   "execution_count": null,
   "metadata": {},
   "outputs": [],
   "source": []
  }
 ],
 "metadata": {
  "kernelspec": {
   "display_name": "venv-hella",
   "language": "python",
   "name": "venv-hella"
  },
  "language_info": {
   "codemirror_mode": {
    "name": "ipython",
    "version": 3
   },
   "file_extension": ".py",
   "mimetype": "text/x-python",
   "name": "python",
   "nbconvert_exporter": "python",
   "pygments_lexer": "ipython3",
   "version": "3.7.4"
  }
 },
 "nbformat": 4,
 "nbformat_minor": 4
}
